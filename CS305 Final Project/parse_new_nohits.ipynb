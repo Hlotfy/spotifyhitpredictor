{
 "cells": [
  {
   "cell_type": "code",
   "execution_count": null,
   "metadata": {
    "collapsed": true
   },
   "outputs": [],
   "source": [
    "import numpy as np \n",
    "import pandas as pd\n",
    "import spotipy\n",
    "import os\n",
    "import spotipy.oauth2 as Auth \n",
    "\n",
    "CLIENT_ID = '60ddd115f669473890f90e8f1443e44c'\n",
    "CLIENT_SECRET = '7861b9c48f4b4be0ad43a7ccf7b21a25'\n",
    "\n",
    "spotifyAuth = Auth.SpotifyClientCredentials(client_id=CLIENT_ID, client_secret=CLIENT_SECRET)\n",
    "token = spotifyAuth.get_access_token()\n",
    "spotify = spotipy.Spotify(auth=token)\n",
    "\n",
    "def get_track_ids(filename):\n",
    "    print(filename)\n",
    "    DATA = pd.read_csv(filename, skiprows=0, header=1)\n",
    "    data = np.asarray(DATA)\n",
    "    track_links = list(data[:, 0])\n",
    "    track_ids = [link.split(':')[-1] for link in track_links]\n",
    "    return track_ids\n",
    "\n",
    "\n",
    "def get_pop_track_ids(filename):\n",
    "    DATA = pd.read_csv(filename, skiprows=0, header=1)\n",
    "    data = np.asarray(DATA)\n",
    "    track_links = list(data[:, -1])\n",
    "    track_ids = [link.split('/')[-1] for link in track_links]\n",
    "    return track_ids\n",
    "\n",
    "# files_17 = os.listdir('2017/')\n",
    "\n",
    "# data = []\n",
    "all_ids = set()\n",
    "# for file in files_17:\n",
    "#     if not file.startswith('.'):\n",
    "#         ids = get_pop_track_ids('2017/'+file)\n",
    "#         all_ids.update(ids)\n",
    "\n",
    "track_data = pd.read_csv('/Users/hlotfy/spotifyhitpredictor/CS305 Final Project/clean_data/tracks.csv', skiprows=0, header=0)\n",
    "all_ids.update(track_data['id'])\n",
    "# d_2016 = d_2016[['id', 'acousticness', 'danceability', 'duration_ms', 'energy', 'instrumentalness', 'key', 'liveness', 'loudness', 'mode', 'speechiness', 'tempo', 'time_signature', 'valence', 'track_popularity', 'artist_popularity', 'year', 'hit']]\n",
    "# # d_2016.to_csv('2016_data.csv', index=False)\n",
    "# \n",
    "# d_2019 = pd.read_csv('clean_data/2019_data.csv', skiprows=0, header=0)\n",
    "# # d_2019 = d_2019[['id', 'acousticness', 'danceability', 'duration_ms', 'energy', 'instrumentalness', 'key', 'liveness', 'loudness', 'mode', 'speechiness', 'tempo', 'time_signature', 'valence', 'track_popularity', 'artist_popularity', 'year', 'hit']]\n",
    "# # d_2019.to_csv('2019_data.csv', index=False)\n",
    "# # print(len(all_ids))\n",
    "# all_ids.update(d_2016['id'])\n",
    "# all_ids.update(d_2019['id'])\n",
    "print(len(all_ids))\n",
    "\n",
    "\n",
    "#only keep the songs which are from between 2016-2019\n",
    "\n",
    "nh = os.listdir('/Users/hlotfy/spotifyhitpredictor/CS305 Final Project/nonhits/')"
   ]
  }
 ],
 "metadata": {
  "kernelspec": {
   "display_name": "Python 3",
   "language": "python",
   "name": "python3"
  },
  "language_info": {
   "codemirror_mode": {
    "name": "ipython",
    "version": 3
   },
   "file_extension": ".py",
   "mimetype": "text/x-python",
   "name": "python",
   "nbconvert_exporter": "python",
   "pygments_lexer": "ipython3",
   "version": "3.5.2"
  }
 },
 "nbformat": 4,
 "nbformat_minor": 2
}
