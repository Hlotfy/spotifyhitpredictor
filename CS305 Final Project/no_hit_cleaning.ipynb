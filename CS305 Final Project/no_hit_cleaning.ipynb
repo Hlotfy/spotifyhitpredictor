{
 "cells": [
  {
   "cell_type": "code",
   "execution_count": 1,
   "metadata": {
    "collapsed": false
   },
   "outputs": [],
   "source": [
    "import numpy as np \n",
    "import pandas as pd\n",
    "import sys\n",
    "# !{sys.executable} -m pip install spotipy\n",
    "import spotipy\n",
    "import os\n",
    "import spotipy.oauth2 as Auth \n",
    "\n",
    "CLIENT_ID = '60ddd115f669473890f90e8f1443e44c'\n",
    "CLIENT_SECRET = '7861b9c48f4b4be0ad43a7ccf7b21a25'\n",
    "\n",
    "spotifyAuth = Auth.SpotifyClientCredentials(client_id=CLIENT_ID, client_secret=CLIENT_SECRET)\n",
    "token = spotifyAuth.get_access_token()\n",
    "spotify = spotipy.Spotify(auth=token)\n"
   ]
  },
  {
   "cell_type": "code",
   "execution_count": 2,
   "metadata": {
    "collapsed": false
   },
   "outputs": [],
   "source": [
    "def get_track_ids(filename):\n",
    "    DATA = pd.read_csv(filename, skiprows=0, header=1)\n",
    "    data = np.asarray(DATA)\n",
    "    track_links = list(data[:, 0])\n",
    "    track_ids = [link.split(':')[-1] for link in track_links]\n",
    "    return track_ids\n",
    "\n",
    "def get_pop_track_ids(filename):\n",
    "    DATA = pd.read_csv(filename, skiprows=0, header=1)\n",
    "    data = np.asarray(DATA)\n",
    "    track_links = list(data[:, -1])\n",
    "    track_ids = [link.split('/')[-1] for link in track_links]\n",
    "    return track_ids\n",
    "\n",
    "def order_data(filename):\n",
    "    rows = set()\n",
    "    csv_data = pd.read_csv(filename, skiprows=0, header=0)\n",
    "#     csv_data.rename(columns = {'popularity':'track_popularity'}, inplace=True)\n",
    "#     csv_data = csv_data[['id', 'acousticness', 'danceability', 'duration_ms', 'energy', 'instrumentalness', 'key', 'liveness', 'loudness', 'mode', 'speechiness', 'tempo', 'time_signature', 'valence', 'track_popularity', 'artist_popularity', 'year', 'hit']]\n",
    "    get_year = lambda dt: int(dt.split('-')[0])\n",
    "    csv_data['year'] = csv_data['year'].apply(get_year)\n",
    "    csv_data.to_csv(filename, index=False)\n",
    "    return csv_data\n",
    "    \n",
    "                   \n",
    "def avg_artist_popularity(artids):\n",
    "    artists_pop = []\n",
    "    artists = spotify.artists(artids)\n",
    "    if len(artids) > 1:\n",
    "        popularity = np.mean([a['popularity'] for a in artists['artists']])\n",
    "    else:\n",
    "        popularity = artists['artists'].pop()['popularity']\n",
    "\n",
    "    return popularity\n",
    "\n",
    "\n",
    "def flatten_dict(d):\n",
    "    flat_d = {}\n",
    "    for k in d:\n",
    "        if type(d[k]) == dict:\n",
    "            # print(d[k])\n",
    "            flat_d.update(flatten_dict(d[k]))\n",
    "        elif type(d[k]) == list and k == 'artists':\n",
    "            artids = [art['id'] for art in d[k]]\n",
    "            flat_d['artist_popularity'] = avg_artist_popularity(artids)\n",
    "        else:\n",
    "            flat_d[k] = d[k]\n",
    "    # print(flat_d)\n",
    "    return flat_d\n",
    "    "
   ]
  },
  {
   "cell_type": "code",
   "execution_count": 3,
   "metadata": {
    "collapsed": false
   },
   "outputs": [],
   "source": [
    "files_17 = os.listdir('hits/')\n",
    "\n",
    "data = []\n",
    "all_ids = set()\n",
    "# for file in files_17:\n",
    "#     if not file.startswith('.'):\n",
    "#         ids = get_pop_track_ids('2017/'+file)\n",
    "#         all_ids.update(ids)\n",
    "\n",
    "d_2016 = pd.read_csv('clean_data/2016_data.csv', skiprows=0, header=0)\n",
    "d_2017 = pd.read_csv('clean_data/2017_data.csv', skiprows=0, header=0)\n",
    "d_2019 = pd.read_csv('clean_data/2019_data.csv', skiprows=0, header=0)\n",
    "# print(d_2016)\n",
    "all_ids.update(d_2019['id'])\n",
    "all_ids.update(d_2017['id'])\n",
    "all_ids.update(d_2016['id'])\n"
   ]
  },
  {
   "cell_type": "code",
   "execution_count": 4,
   "metadata": {
    "collapsed": false
   },
   "outputs": [
    {
     "name": "stdout",
     "output_type": "stream",
     "text": [
      "Index(['id', 'acousticness', 'danceability', 'duration_ms', 'energy',\n",
      "       'instrumentalness', 'key', 'liveness', 'loudness', 'mode',\n",
      "       'speechiness', 'tempo', 'time_signature', 'valence', 'track_popularity',\n",
      "       'artist_popularity', 'year', 'hit'],\n",
      "      dtype='object')\n",
      "1414\n"
     ]
    }
   ],
   "source": [
    "d_no_hit = pd.read_csv('clean_data/no_hits_data.csv', skiprows=0, header=0)\n",
    "d_no_hits = d_no_hit[d_no_hit.year > 2015]\n",
    "print(d_no_hits.columns)\n",
    "print(len(d_no_hits))\n",
    "d_no_hits.to_csv('clean_data/no_hits_data.csv', index=False)"
   ]
  },
  {
   "cell_type": "code",
   "execution_count": null,
   "metadata": {
    "collapsed": true
   },
   "outputs": [],
   "source": []
  }
 ],
 "metadata": {
  "kernelspec": {
   "display_name": "Python 3",
   "language": "python",
   "name": "python3"
  },
  "language_info": {
   "codemirror_mode": {
    "name": "ipython",
    "version": 3
   },
   "file_extension": ".py",
   "mimetype": "text/x-python",
   "name": "python",
   "nbconvert_exporter": "python",
   "pygments_lexer": "ipython3",
   "version": "3.5.2"
  }
 },
 "nbformat": 4,
 "nbformat_minor": 2
}
