{
 "cells": [
  {
   "cell_type": "code",
   "execution_count": 1,
   "metadata": {
    "collapsed": false,
    "deletable": true,
    "editable": true
   },
   "outputs": [],
   "source": [
    "import numpy as np \n",
    "import pandas as pd\n",
    "import sys\n",
    "# !{sys.executable} -m pip install spotipy\n",
    "import spotipy\n",
    "import os\n",
    "import spotipy.oauth2 as Auth \n",
    "\n",
    "CLIENT_ID = '60ddd115f669473890f90e8f1443e44c'\n",
    "CLIENT_SECRET = '7861b9c48f4b4be0ad43a7ccf7b21a25'\n",
    "\n",
    "spotifyAuth = Auth.SpotifyClientCredentials(client_id=CLIENT_ID, client_secret=CLIENT_SECRET)\n",
    "token = spotifyAuth.get_access_token()\n",
    "spotify = spotipy.Spotify(auth=token)\n"
   ]
  },
  {
   "cell_type": "code",
   "execution_count": 2,
   "metadata": {
    "collapsed": false,
    "deletable": true,
    "editable": true
   },
   "outputs": [],
   "source": [
    "def get_track_ids(filename):\n",
    "    DATA = pd.read_csv(filename, skiprows=0, header=1)\n",
    "    data = np.asarray(DATA)\n",
    "    track_links = list(data[:, 0])\n",
    "    track_ids = [link.split(':')[-1] for link in track_links]\n",
    "    return track_ids\n",
    "\n",
    "def get_pop_track_ids(filename):\n",
    "    DATA = pd.read_csv(filename, skiprows=0, header=1)\n",
    "    data = np.asarray(DATA)\n",
    "    track_links = list(data[:, -1])\n",
    "    track_ids = [link.split('/')[-1] for link in track_links]\n",
    "    return track_ids\n",
    "\n",
    "def order_data(filename):\n",
    "    rows = set()\n",
    "    csv_data = pd.read_csv(filename, skiprows=0, header=0)\n",
    "#     csv_data.rename(columns = {'popularity':'track_popularity'}, inplace=True)\n",
    "#     csv_data = csv_data[['id', 'acousticness', 'danceability', 'duration_ms', 'energy', 'instrumentalness', 'key', 'liveness', 'loudness', 'mode', 'speechiness', 'tempo', 'time_signature', 'valence', 'track_popularity', 'artist_popularity', 'year', 'hit']]\n",
    "    get_year = lambda dt: int(dt.split('-')[0])\n",
    "    csv_data['year'] = csv_data['year'].apply(get_year)\n",
    "    csv_data.to_csv(filename, index=False)\n",
    "    return csv_data\n",
    "    \n",
    "                   \n",
    "def avg_artist_popularity(artids):\n",
    "    artists_pop = []\n",
    "    artists = spotify.artists(artids)\n",
    "    if len(artids) > 1:\n",
    "        popularity = np.mean([a['popularity'] for a in artists['artists']])\n",
    "    else:\n",
    "        popularity = artists['artists'].pop()['popularity']\n",
    "\n",
    "    return popularity\n",
    "\n",
    "\n",
    "def flatten_dict(d):\n",
    "    flat_d = {}\n",
    "    for k in d:\n",
    "        if type(d[k]) == dict:\n",
    "            # print(d[k])\n",
    "            flat_d.update(flatten_dict(d[k]))\n",
    "        elif type(d[k]) == list and k == 'artists':\n",
    "            artids = [art['id'] for art in d[k]]\n",
    "            flat_d['artist_popularity'] = avg_artist_popularity(artids)\n",
    "        else:\n",
    "            flat_d[k] = d[k]\n",
    "    # print(flat_d)\n",
    "    return flat_d\n",
    "    "
   ]
  },
  {
   "cell_type": "code",
   "execution_count": 3,
   "metadata": {
    "collapsed": false,
    "deletable": true,
    "editable": true
   },
   "outputs": [
    {
     "name": "stdout",
     "output_type": "stream",
     "text": [
      "2898\n"
     ]
    }
   ],
   "source": [
    "files_17 = os.listdir('hits/')\n",
    "\n",
    "data = []\n",
    "all_ids = set()\n",
    "# for file in files_17:\n",
    "#     if not file.startswith('.'):\n",
    "#         ids = get_pop_track_ids('2017/'+file)\n",
    "#         all_ids.update(ids)\n",
    "\n",
    "d_2016 = pd.read_csv('clean_data/2016_data.csv', skiprows=0, header=0)\n",
    "d_2017 = pd.read_csv('clean_data/2017_data.csv', skiprows=0, header=0)\n",
    "d_2018 = pd.read_csv('clean_data/2018_data.csv', skiprows=0, header=0)\n",
    "d_2019 = pd.read_csv('clean_data/2019_data.csv', skiprows=0, header=0)\n",
    "\n",
    "# d_2018['year'] = 2018\n",
    "# d_2018 = d_2018[['id', 'acousticness', 'danceability', 'duration_ms', 'energy', 'instrumentalness', 'key', 'liveness', 'loudness', 'mode', 'speechiness', 'tempo', 'time_signature', 'valence', 'track_popularity', 'artist_popularity', 'year', 'hit']]\n",
    "# d_2018.to_csv('clean_data/2018_data.csv', index=False) \n",
    "\n",
    "all_ids.update(d_2019['id'])\n",
    "# print(len(d_2018['id']))\n",
    "# d_2018 = d_2018[~d_2018['id'].isin(all_ids)]\n",
    "# print(len(d_2018['id']))\n",
    "# d_2018.to_csv('clean_data/2018_data.csv', index=False) \n",
    "\n",
    "all_ids.update(d_2018['id'])\n",
    "# print(len(d_2017['id']))\n",
    "# d_2017 = d_2017[~d_2017['id'].isin(all_ids)]\n",
    "# print(len(d_2017['id']))\n",
    "# d_2017.to_csv('clean_data/2017_data.csv', index=False) \n",
    "\n",
    "all_ids.update(d_2017['id'])\n",
    "# print(len(d_2016['id']))\n",
    "# d_2016 = d_2016[~d_2016['id'].isin(all_ids)]\n",
    "# print(len(d_2016['id']))\n",
    "# d_2016.to_csv('clean_data/2016_data.csv', index=False) \n",
    "\n",
    "all_ids.update(d_2016['id'])\n",
    "\n",
    "print(len(all_ids))"
   ]
  },
  {
   "cell_type": "code",
   "execution_count": 4,
   "metadata": {
    "collapsed": false,
    "deletable": true,
    "editable": true
   },
   "outputs": [
    {
     "name": "stdout",
     "output_type": "stream",
     "text": [
      "1374\n"
     ]
    }
   ],
   "source": [
    "d_no_hit = pd.read_csv('clean_data/no_hits_data.csv', skiprows=0, header=0)\n",
    "print(len(d_no_hit))\n",
    "# d_no_hits = d_no_hit[d_no_hit.year > 2015]\n",
    "# print(d_no_hits.columns)\n",
    "# print(len(d_no_hits))\n",
    "# d_no_hits.to_csv('clean_data/no_hits_data.csv', index=False)"
   ]
  },
  {
   "cell_type": "code",
   "execution_count": 5,
   "metadata": {
    "collapsed": false,
    "deletable": true,
    "editable": true
   },
   "outputs": [],
   "source": [
    "no_hit_ids = set(d_no_hit['id'])\n",
    "# print(len(no_hit_ids))\n",
    "# true_no_hits = no_hit_ids - all_ids\n",
    "# print(len(true_no_hits))"
   ]
  },
  {
   "cell_type": "code",
   "execution_count": 6,
   "metadata": {
    "collapsed": false,
    "deletable": true,
    "editable": true
   },
   "outputs": [],
   "source": [
    "# print(true_no_hits)\n",
    "# d_no_hit = d_no_hit[d_no_hit['id'].isin(true_no_hits)]\n",
    "# print(d_no_hit)\n",
    "# d_no_hit.to_csv('clean_data/no_hits_data.csv', index=False)"
   ]
  },
  {
   "cell_type": "code",
   "execution_count": 7,
   "metadata": {
    "collapsed": false,
    "deletable": true,
    "editable": true
   },
   "outputs": [
    {
     "name": "stdout",
     "output_type": "stream",
     "text": [
      "2898\n"
     ]
    }
   ],
   "source": [
    "print(len(all_ids))"
   ]
  },
  {
   "cell_type": "code",
   "execution_count": 8,
   "metadata": {
    "collapsed": false,
    "deletable": true,
    "editable": true
   },
   "outputs": [
    {
     "name": "stdout",
     "output_type": "stream",
     "text": [
      "4272\n",
      "                       id  acousticness  danceability  duration_ms  energy  \\\n",
      "0  5418UMEZW10tHZ6qrIVlKW      0.625000         0.466       304881   0.424   \n",
      "1  47f6eZgviwSZciXGv2iWYg      0.001300         0.661       200785   0.516   \n",
      "2  1maoY6K6fsTEv9fhXhBL14      0.056700         0.508       196366   0.744   \n",
      "3  3Ky9ZOg06H36s9TtYyXAxX      0.000105         0.493       241428   0.908   \n",
      "4  7l47dRm8jw7NMs0OFoQrrK      0.147000         0.441       178636   0.652   \n",
      "\n",
      "   instrumentalness  key  liveness  loudness  mode  speechiness    tempo  \\\n",
      "0          0.000233    3    0.0903    -8.929     1       0.0292  111.136   \n",
      "1          0.000000    8    0.0998   -11.207     1       0.0425  140.077   \n",
      "2          0.000000    5    0.1930    -3.421     1       0.0356  132.067   \n",
      "3          0.489000    5    0.1290    -4.991     0       0.0817  150.965   \n",
      "4          0.000000    2    0.2730    -8.377     1       0.0861  175.988   \n",
      "\n",
      "   time_signature  valence  track_popularity  artist_popularity  year  hit  \n",
      "0               4   0.0996                37               52.0  2019    0  \n",
      "1               4   0.3330                60               66.5  2019    0  \n",
      "2               4   0.1290                64               82.0  2019    0  \n",
      "3               4   0.4150                29               18.0  2019    0  \n",
      "4               4   0.7900                36               37.0  2019    0  \n"
     ]
    }
   ],
   "source": [
    "all_data = pd.concat([d_no_hit, d_2016, d_2017, d_2018, d_2019])\n",
    "print(len(all_data))\n",
    "print(all_data.head())"
   ]
  },
  {
   "cell_type": "code",
   "execution_count": 9,
   "metadata": {
    "collapsed": true,
    "deletable": true,
    "editable": true
   },
   "outputs": [],
   "source": [
    "all_data.to_csv('clean_data/tracks.csv', index=False)"
   ]
  },
  {
   "cell_type": "code",
   "execution_count": 11,
   "metadata": {
    "collapsed": false,
    "deletable": true,
    "editable": true
   },
   "outputs": [
    {
     "name": "stdout",
     "output_type": "stream",
     "text": [
      "4272\n"
     ]
    }
   ],
   "source": [
    "all_ids.update(no_hit_ids)\n",
    "print(len(all_ids))"
   ]
  },
  {
   "cell_type": "code",
   "execution_count": null,
   "metadata": {
    "collapsed": true
   },
   "outputs": [],
   "source": []
  }
 ],
 "metadata": {
  "kernelspec": {
   "display_name": "Python 3",
   "language": "python",
   "name": "python3"
  },
  "language_info": {
   "codemirror_mode": {
    "name": "ipython",
    "version": 3
   },
   "file_extension": ".py",
   "mimetype": "text/x-python",
   "name": "python",
   "nbconvert_exporter": "python",
   "pygments_lexer": "ipython3",
   "version": "3.5.2"
  }
 },
 "nbformat": 4,
 "nbformat_minor": 2
}
