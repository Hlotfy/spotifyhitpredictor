{
 "cells": [
  {
   "cell_type": "code",
   "execution_count": 57,
   "metadata": {},
   "outputs": [],
   "source": [
    "import numpy as np \n",
    "import pandas as pd\n",
    "from sklearn.neural_network import MLPClassifier\n",
    "from sklearn.model_selection import train_test_split\n",
    "from sklearn.metrics import classification_report, confusion_matrix\n",
    "\n",
    "DATA = pd.DataFrame(pd.read_csv('/Users/halalotfy/CS305/spotifyhitpredictor/CS305 Final Project/clean_data/track_data.csv', header=0)).values\n",
    "X = DATA[:,2:-1]\n",
    "# print(X)\n",
    "y = DATA[:,-1]\n",
    "y=y.astype('int')\n",
    "# print(y)\n",
    "# print(y_train)\n"
   ]
  },
  {
   "cell_type": "code",
   "execution_count": 63,
   "metadata": {},
   "outputs": [],
   "source": [
    "X_train, X_test, y_train, y_test = train_test_split(X, y, test_size=0.20, random_state=32)"
   ]
  },
  {
   "cell_type": "code",
   "execution_count": 64,
   "metadata": {},
   "outputs": [
    {
     "name": "stdout",
     "output_type": "stream",
     "text": [
      "[[3202  342]\n",
      " [ 821 1487]]\n",
      "              precision    recall  f1-score   support\n",
      "\n",
      "           0       0.80      0.90      0.85      3544\n",
      "           1       0.81      0.64      0.72      2308\n",
      "\n",
      "    accuracy                           0.80      5852\n",
      "   macro avg       0.80      0.77      0.78      5852\n",
      "weighted avg       0.80      0.80      0.80      5852\n",
      "\n",
      "true negative:  788 \n",
      "false positive:  86 \n",
      "false negative:  216 \n",
      "true positive:  374\n",
      "              precision    recall  f1-score   support\n",
      "\n",
      "           0       0.78      0.90      0.84       874\n",
      "           1       0.81      0.63      0.71       590\n",
      "\n",
      "    accuracy                           0.79      1464\n",
      "   macro avg       0.80      0.77      0.78      1464\n",
      "weighted avg       0.80      0.79      0.79      1464\n",
      "\n"
     ]
    }
   ],
   "source": [
    "mlp = MLPClassifier(hidden_layer_sizes=(50, 50), max_iter=10000)\n",
    "mlp.fit(X_train, y_train)\n",
    "predictions = mlp.predict(X_test)\n",
    "predictions_train = mlp.predict(X_train)\n",
    "# print(y_test)\n",
    "print(confusion_matrix(y_train,predictions_train))\n",
    "print(classification_report(y_train,predictions_train))\n",
    "\n",
    "tn, fp, fn, tp = confusion_matrix(y_test,predictions).ravel()\n",
    "print(\"true negative: \", tn, \"\\nfalse positive: \", fp, \"\\nfalse negative: \", fn, \"\\ntrue positive: \", tp)\n",
    "print(classification_report(y_test,predictions))\n"
   ]
  },
  {
   "cell_type": "code",
   "execution_count": 62,
   "metadata": {},
   "outputs": [
    {
     "data": {
      "text/plain": [
       "1444"
      ]
     },
     "execution_count": 62,
     "metadata": {},
     "output_type": "execute_result"
    }
   ],
   "source": [
    "mlp.n_iter_"
   ]
  },
  {
   "cell_type": "code",
   "execution_count": null,
   "metadata": {},
   "outputs": [],
   "source": []
  },
  {
   "cell_type": "code",
   "execution_count": null,
   "metadata": {},
   "outputs": [],
   "source": []
  }
 ],
 "metadata": {
  "kernelspec": {
   "display_name": "Python 3",
   "language": "python",
   "name": "python3"
  },
  "language_info": {
   "codemirror_mode": {
    "name": "ipython",
    "version": 3
   },
   "file_extension": ".py",
   "mimetype": "text/x-python",
   "name": "python",
   "nbconvert_exporter": "python",
   "pygments_lexer": "ipython3",
   "version": "3.7.5"
  }
 },
 "nbformat": 4,
 "nbformat_minor": 2
}
