{
 "cells": [
  {
   "cell_type": "code",
   "execution_count": 1,
   "metadata": {},
   "outputs": [],
   "source": [
    "import numpy as np\n",
    "import pandas as pd"
   ]
  },
  {
   "cell_type": "code",
   "execution_count": 2,
   "metadata": {},
   "outputs": [],
   "source": [
    "DATA = pd.read_csv('clean_data/even_more_tracks.csv', skiprows=0, header=0)\n",
    "DATA = pd.DataFrame(DATA).drop(columns=['id'])\n",
    "column_names = list(DATA.columns[:-1])\n",
    "DATA = np.array(DATA)\n"
   ]
  },
  {
   "cell_type": "code",
   "execution_count": 3,
   "metadata": {},
   "outputs": [],
   "source": [
    "X = DATA [:,:-1]\n",
    "y = DATA[:,-1]"
   ]
  },
  {
   "cell_type": "markdown",
   "metadata": {},
   "source": [
    "## Logistic Regression Model"
   ]
  },
  {
   "cell_type": "code",
   "execution_count": 4,
   "metadata": {},
   "outputs": [],
   "source": [
    "# Split data into 80% training and 20% testing\n",
    "from sklearn.model_selection import train_test_split\n",
    "np.random.seed(20)\n",
    "X_train, X_test, y_train, y_test = train_test_split(X, y, test_size=0.40)"
   ]
  },
  {
   "cell_type": "code",
   "execution_count": 46,
   "metadata": {},
   "outputs": [
    {
     "name": "stderr",
     "output_type": "stream",
     "text": [
      "/usr/local/lib/python3.7/site-packages/sklearn/linear_model/logistic.py:432: FutureWarning: Default solver will be changed to 'lbfgs' in 0.22. Specify a solver to silence this warning.\n",
      "  FutureWarning)\n"
     ]
    },
    {
     "data": {
      "text/plain": [
       "LogisticRegression(C=1.0, class_weight=None, dual=False, fit_intercept=True,\n",
       "                   intercept_scaling=1, l1_ratio=None, max_iter=100,\n",
       "                   multi_class='warn', n_jobs=None, penalty='l2',\n",
       "                   random_state=0, solver='warn', tol=0.0001, verbose=0,\n",
       "                   warm_start=False)"
      ]
     },
     "execution_count": 46,
     "metadata": {},
     "output_type": "execute_result"
    }
   ],
   "source": [
    "from sklearn.linear_model import LogisticRegression\n",
    "\n",
    "regrClf =  LogisticRegression(random_state=0)\n",
    "regrClf.fit(X_train, y_train)"
   ]
  },
  {
   "cell_type": "code",
   "execution_count": 47,
   "metadata": {},
   "outputs": [
    {
     "name": "stdout",
     "output_type": "stream",
     "text": [
      "Training Data Score: 0.8529067499024581\n",
      "Testing Data Score: 0.85020479812756\n"
     ]
    }
   ],
   "source": [
    "train_predictions = regrClf.predict(X_train)\n",
    "print(\"Training Data Score:\", regrClf.score(X_train, y_train))\n",
    "test_predictions = regrClf.predict(X_test)\n",
    "print(\"Testing Data Score:\", regrClf.score(X_test, y_test))\n"
   ]
  },
  {
   "cell_type": "code",
   "execution_count": 48,
   "metadata": {},
   "outputs": [
    {
     "data": {
      "text/plain": [
       "0.09143079134265615"
      ]
     },
     "execution_count": 48,
     "metadata": {},
     "output_type": "execute_result"
    }
   ],
   "source": [
    "feature_weights = {}\n",
    "for i in range(len(column_names)):\n",
    "    feat = column_names[i]\n",
    "    feature_weights[feat] = regrClf.coef_[0][i]\n",
    "max(regrClf.coef_[0])"
   ]
  },
  {
   "cell_type": "code",
   "execution_count": 49,
   "metadata": {},
   "outputs": [
    {
     "name": "stdout",
     "output_type": "stream",
     "text": [
      "              precision    recall  f1-score   support\n",
      "\n",
      "         0.0       0.90      0.62      0.73       565\n",
      "         1.0       0.84      0.96      0.90      1144\n",
      "\n",
      "    accuracy                           0.85      1709\n",
      "   macro avg       0.87      0.79      0.81      1709\n",
      "weighted avg       0.86      0.85      0.84      1709\n",
      "\n"
     ]
    }
   ],
   "source": [
    "from sklearn.metrics import classification_report\n",
    "print(classification_report(y_test, test_predictions))"
   ]
  },
  {
   "cell_type": "code",
   "execution_count": 50,
   "metadata": {},
   "outputs": [],
   "source": [
    "import operator\n",
    "sorted_x = sorted(feature_weights.items(), key=operator.itemgetter(1))"
   ]
  },
  {
   "cell_type": "code",
   "execution_count": 51,
   "metadata": {},
   "outputs": [
    {
     "data": {
      "text/plain": [
       "[('year', -0.0030959087732987185),\n",
       " ('mode', -0.0006078006129145711),\n",
       " ('acousticness', -0.0005666278704953948),\n",
       " ('instrumentalness', -0.0002523318338487842),\n",
       " ('track_popularity', -1.2725493945578784e-05),\n",
       " ('duration_ms', -1.7586345422580072e-06),\n",
       " ('key', 1.3839557384331474e-05),\n",
       " ('liveness', 3.0234927096803396e-05),\n",
       " ('valence', 0.0001715207398166119),\n",
       " ('time_signature', 0.0002465774090625765),\n",
       " ('speechiness', 0.0002768305849364607),\n",
       " ('energy', 0.0003317572388672221),\n",
       " ('danceability', 0.0003754026494655891),\n",
       " ('tempo', 0.0029348771423836563),\n",
       " ('loudness', 0.00621825198497792),\n",
       " ('artist_popularity', 0.09143079134265615)]"
      ]
     },
     "execution_count": 51,
     "metadata": {},
     "output_type": "execute_result"
    }
   ],
   "source": [
    "sorted_x"
   ]
  },
  {
   "cell_type": "markdown",
   "metadata": {},
   "source": [
    "## Decision Trees"
   ]
  },
  {
   "cell_type": "code",
   "execution_count": 52,
   "metadata": {},
   "outputs": [
    {
     "data": {
      "text/plain": [
       "DecisionTreeClassifier(class_weight=None, criterion='gini', max_depth=None,\n",
       "                       max_features=None, max_leaf_nodes=None,\n",
       "                       min_impurity_decrease=0.0, min_impurity_split=None,\n",
       "                       min_samples_leaf=1, min_samples_split=2,\n",
       "                       min_weight_fraction_leaf=0.0, presort=False,\n",
       "                       random_state=0, splitter='best')"
      ]
     },
     "execution_count": 52,
     "metadata": {},
     "output_type": "execute_result"
    }
   ],
   "source": [
    "from sklearn.tree import DecisionTreeClassifier\n",
    "\n",
    "treeClf = DecisionTreeClassifier(random_state=0)\n",
    "treeClf.fit(X_train, y_train)"
   ]
  },
  {
   "cell_type": "code",
   "execution_count": 53,
   "metadata": {},
   "outputs": [
    {
     "name": "stdout",
     "output_type": "stream",
     "text": [
      "Decision Tree Scores: 0.8466939730836747\n"
     ]
    }
   ],
   "source": [
    "print(\"Decision Tree Scores:\", treeClf.score(X_test, y_test))"
   ]
  },
  {
   "cell_type": "markdown",
   "metadata": {},
   "source": [
    "## Support Vector Machine "
   ]
  },
  {
   "cell_type": "code",
   "execution_count": null,
   "metadata": {},
   "outputs": [
    {
     "name": "stdout",
     "output_type": "stream",
     "text": [
      "c: 0.001 g: 0.001 0.8970701619121049\n",
      "c: 0.001 g: 0.01 0.8970701619121049\n",
      "c: 0.001 g: 0.1 0.8970701619121049\n",
      "c: 0.001 g: 1.0 0.8970701619121049\n",
      "c: 0.001 g: 10.0 0.8970701619121049\n",
      "c: 0.001 g: 100.0 0.8970701619121049\n",
      "c: 0.001 g: 1000.0 0.8970701619121049\n",
      "c: 0.01 g: 0.001 0.8959136468774094\n",
      "c: 0.01 g: 0.01 0.8959136468774094\n",
      "c: 0.01 g: 0.1 0.8959136468774094\n",
      "c: 0.01 g: 1.0 0.8959136468774094\n",
      "c: 0.01 g: 10.0 0.8959136468774094\n",
      "c: 0.01 g: 100.0 0.8959136468774094\n",
      "c: 0.01 g: 1000.0 0.8959136468774094\n",
      "c: 1.0 g: 0.001 0.8978411719352352\n",
      "c: 1.0 g: 0.01 0.8978411719352352\n",
      "c: 1.0 g: 0.1 0.8978411719352352\n",
      "c: 1.0 g: 1.0 0.8978411719352352\n",
      "c: 1.0 g: 10.0 0.8978411719352352\n",
      "c: 1.0 g: 100.0 0.8978411719352352\n",
      "c: 1.0 g: 1000.0 0.8978411719352352\n",
      "c: 10.0 g: 0.001 0.8943716268311488\n",
      "c: 10.0 g: 0.01 0.8943716268311488\n",
      "c: 10.0 g: 0.1 0.8943716268311488\n",
      "c: 10.0 g: 1.0 0.8943716268311488\n",
      "c: 10.0 g: 10.0 0.8943716268311488\n",
      "c: 10.0 g: 100.0 0.8943716268311488\n",
      "c: 10.0 g: 1000.0 0.8943716268311488\n"
     ]
    }
   ],
   "source": [
    "import sklearn.svm as svm\n",
    "\n",
    "C = [0.001, 0.01, 1.0, 10.0, 100.0, 1000.0]\n",
    "G = [0.001, 0.01, 0.1, 1.0, 10.0, 100.0, 1000.0 ]\n",
    "\n",
    "\n",
    "for c in C:\n",
    "    for g in G:\n",
    "        clf = svm.SVC(kernel='linear', gamma=g, C=c)\n",
    "        clf.fit(X_train, y_train)\n",
    "        print('c:', c, 'g:', g, clf.score(X_test, y_test))"
   ]
  },
  {
   "cell_type": "markdown",
   "metadata": {},
   "source": [
    "## Neural Networks"
   ]
  },
  {
   "cell_type": "code",
   "execution_count": null,
   "metadata": {},
   "outputs": [],
   "source": [
    "from sklearn.neural_network import MLPClassifier\n",
    "\n"
   ]
  }
 ],
 "metadata": {
  "kernelspec": {
   "display_name": "Python 3",
   "language": "python",
   "name": "python3"
  },
  "language_info": {
   "codemirror_mode": {
    "name": "ipython",
    "version": 3
   },
   "file_extension": ".py",
   "mimetype": "text/x-python",
   "name": "python",
   "nbconvert_exporter": "python",
   "pygments_lexer": "ipython3",
   "version": "3.7.3"
  }
 },
 "nbformat": 4,
 "nbformat_minor": 2
}
