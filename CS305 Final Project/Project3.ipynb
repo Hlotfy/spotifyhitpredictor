{
 "cells": [
  {
   "cell_type": "markdown",
   "metadata": {},
   "source": [
    "<H1><center>Project 3<BR><BR>\n",
    "Linear Regression and Logistic Regression</center></H1>"
   ]
  },
  {
   "cell_type": "markdown",
   "metadata": {},
   "source": [
    "<H2>Task 1: Ethics of Artificial Intelligence\n",
    "</H2>"
   ]
  },
  {
   "cell_type": "markdown",
   "metadata": {},
   "source": [
    "<P>Read <a href=\"https://www.wired.com/story/artificial-intelligence-seeks-an-ethical-conscience/\">this article</a> about ethical considerations in artificial intelligence.</P>\n",
    "\n",
    "<P>Please address (minimum 200 words) the following questions in the space below. As the article describes, \"many machine-learning systems are now essentially black boxes; their creators know they work, but they can't explain exactly why they make particular decisions.\" In other words, they are not <em>interpretable</em>. Consider many of the machine learning applications mentioned by the article, e.g., image processing, criminal justice, hiring, healthcare, military. Are there machine learning applications where you would sacrifice accuracy for interpretability? Are there machine learning applications where you would sacrifice interpretability for accuracy? The article concludes with the quote \"Are there some things that we just shouldn't build?\" What is your response to this question?</P>"
   ]
  },
  {
   "cell_type": "markdown",
   "metadata": {
    "collapsed": true
   },
   "source": [
    "The trade off between accuracy and interpretability is an unfortunate reality of many machine learning algorithms. There are few situations wherein I would be comfortable sacrificing interpretability for accuracy. In the case of machine learning algorithms used for diagnostic medicine, such as those used to identify cancer or other life-threatening illnesses, a very high accuracy would be worth the lack of interpretability. While this is not ideal, as there are likely many valuable insights to be gained from understanding those algorithms, the benefits outweigh the costs. This might also be extended to algorithms which evaluate someones risk of mental or physical illness, but there may be greater harms associated with such algorithms if they were freely available. For example, such a risk-evaluating algorithm could be used by insurance companies to deny or up-charge patients who are at a greater risk for illness, and not knowing the reasoning being the evaluations could result in discrimination or incorrectly attributing a casual relationship to the incorrect features. I would be more comfortable sacrificing accuracy for interpretability when the consequences of inaccurate classification are lower, and the likelihood of proliferating biases in existing data are higher.  Such situations might include algorithms used to screen job applicants or in facial recognition.   \n",
    "\n",
    "I do believe that there are things that shouldn't be built. Every new piece of technology should be scrutinized and the potential detrimental side effects should be weighed with the benefits. Any algorithm which might be used to systemically target and discriminate against a group should not exist. The difficulty in enforcing any relevant policy comes with identifying potential abuses of a technology that does not exist yet."
   ]
  },
  {
   "cell_type": "markdown",
   "metadata": {},
   "source": [
    "<H2>Task 2: Linear Regression\n",
    "</H2>"
   ]
  },
  {
   "cell_type": "markdown",
   "metadata": {},
   "source": [
    "<P>In this task, you will use linear regression to predict people's medical costs. Recall that linear regression is often used to predict <em>real</em>-valued results whereas logistic regression is often used to predict <em>classes</em>.</P>\n",
    "\n",
    "<P>The data for this task <a href=\"https://www.kaggle.com/mirichoi0218/insurance\">comes from Kaggle</a> and can be found in the CSV file <code>insurance.csv</code> that you downloaded as part of this project. For each of 1,338 people, we have the following information:\n",
    "<UL>\n",
    "<li>Sex: male or female</li>\n",
    "<li>BMI: body mass index</li>\n",
    "<li>Children: number of children</li>\n",
    "<li>Smoker: no or yes</li>\n",
    "<li>Residential Region in the US: southwest, southeast, northeast, northwest</li>\n",
    "<li>Medical Costs: in dollars</li>\n",
    "</UL>\n",
    "</P>\n",
    "\n",
    "<P>Your goal is to predict the annual medical cost for someone based on their sex, bmi, number of children, whether they are a smoker, and their residential region.</P>"
   ]
  },
  {
   "cell_type": "markdown",
   "metadata": {},
   "source": [
    "<P>One of the challenges is that not all of the data are numerical, and many of our machine learning algorithms prefer to work with numbers rather than, say, strings of text. Correspondingly, it is not straightforward to use the <code>numpy</code> function <code>loadtxt</code> to read in the data from the <code>insurance.csv</code> file. To start, write Python code to read in the data from the <code>insurance.csv</code> file. You should convert any non-numerical features into numerical features. For non-numerical features with only two distinct values, e.g., sex (\"male\" or \"female\") and smoker (\"no\" or \"yes\"), you can replace the text values with corresponding numerical values of 0 or 1. For the non-numerical features with more than two distinct values, i.e., residential region (\"southwest\", \"southeast\", \"northeast\", \"northwest\"), you should replace the one feature with four binary features corresponding to whether the person resides in the southwest (0 or 1), whether the person resides in the southeast (0 or 1), whether the person resides in the northeast (0 or 1), and whether the person resides in the northwest (0 or 1). Thus, we will increase the number of features by 3. Changing a single categorical feature into multiple binary features in this way is known as <em>one-hot encoding</em>. Ultimately, you need to store all the data in numerical form in a <code>numpy</code> array <code>X</code> for the nine features and a <code>numpy</code> array <code>y</code> for the real-valued medical costs that you are trying to predict.</P>\n",
    "\n",
    "<P>Write Python code below to read in the file <code>insurance.csv</code>, convert the non-numerical data into numerical data, and store the results in two <code>numpy</code> arrays <code>X</code> and <code>y</code>.</P>"
   ]
  },
  {
   "cell_type": "code",
   "execution_count": 45,
   "metadata": {
    "scrolled": true
   },
   "outputs": [
    {
     "name": "stdout",
     "output_type": "stream",
     "text": [
      "['age', 'sex', 'bmi', 'children', 'smoker', 'northeast', ' northwest', ' southeast', ' southwest', 'charges'] [[ 19.     1.    27.9  ...,   0.     0.     1.  ]\n",
      " [ 18.     0.    33.77 ...,   0.     1.     0.  ]\n",
      " [ 28.     0.    33.   ...,   0.     1.     0.  ]\n",
      " ..., \n",
      " [ 18.     1.    36.85 ...,   0.     1.     0.  ]\n",
      " [ 21.     1.    25.8  ...,   0.     0.     1.  ]\n",
      " [ 61.     1.    29.07 ...,   1.     0.     0.  ]] [ 16884.924    1725.5523   4449.462  ...,   1629.8335   2007.945\n",
      "  29141.3603]\n"
     ]
    }
   ],
   "source": [
    "# Read in CSV file ignoring header row.\n",
    "# Convert non-numerical data into numerical data.\n",
    "# Store features vectors in numpy array X and real-valued labels in array y.\n",
    "\n",
    "import numpy as np\n",
    "\n",
    "def convert(word):\n",
    "    convert = {'male':[0], 'female':[1], 'no':[0], 'yes':[1], 'northeast':[1,0,0,0], 'northwest':[0,1,0,0], 'southeast':[0,0,1,0], 'southwest':[0,0,0,1]}\n",
    "    try:\n",
    "        return [float(word)]\n",
    "    except ValueError:\n",
    "        return convert[word]\n",
    "\n",
    "\n",
    "def readOneHotEncode(txt):\n",
    "    DATA = []\n",
    "    in_file = open(txt, 'r')\n",
    "    headers = in_file.readline().replace('region', 'northeast, northwest, southeast, southwest').strip('\\n').split(',')\n",
    "    row = in_file.readline()\n",
    "    while(row):\n",
    "        encode_row = []\n",
    "        new_row = [encode_row.extend(item) for item in list(map(convert, row.split(',')))]\n",
    "#         print(encode_row)\n",
    "        DATA.append(np.array(encode_row))\n",
    "            \n",
    "        row = in_file.readline()\n",
    "    in_file.close()\n",
    "    DATA = np.array(DATA)\n",
    "    return DATA[:,:-1], DATA[:,-1], headers\n",
    "\n",
    "\n",
    "X, y, headers = readOneHotEncode('insurance.csv')\n",
    "\n",
    "print(headers,X,y)"
   ]
  },
  {
   "cell_type": "markdown",
   "metadata": {},
   "source": [
    "<P>Once you have your feature vectors in array <code>X</code> and your real-valued labels in array <code>y</code>, split the data into training (80%) and testing (20%) and train a linear regression classifier using <a href=\"https://scikit-learn.org/stable/modules/generated/sklearn.linear_model.LinearRegression.html\"><code>sklearn.linear_model.LinearRegression</code></a>. Then <code>score</code> your model on the <em>test</em> data and report the R<sup>2</sup> coefficient score. If you print out the attribute <code>coef&#95;</code> of your <code>LinearRegression</code> instance, you can see the feature weights of your trained model.</P>"
   ]
  },
  {
   "cell_type": "code",
   "execution_count": 49,
   "metadata": {},
   "outputs": [
    {
     "name": "stdout",
     "output_type": "stream",
     "text": [
      "['age', 'sex', 'bmi', 'children', 'smoker', 'northeast', ' northwest', ' southeast', ' southwest', 'charges']\n",
      "[  2.56975706e+02   1.85916916e+01   3.37092552e+02   4.25278784e+02\n",
      "   2.36511289e+04   4.59585244e+02   8.89079180e+01  -1.98279052e+02\n",
      "  -3.50214110e+02]\n"
     ]
    },
    {
     "data": {
      "text/plain": [
       "0.78359297671207218"
      ]
     },
     "execution_count": 49,
     "metadata": {},
     "output_type": "execute_result"
    }
   ],
   "source": [
    "# Split data into training (80%) and testing (20%)\n",
    "# Train linear regression model on training data.\n",
    "# Predict medical costs for testing data and score the results.\n",
    "# Print out feature weights of trained LinearRegression model.\n",
    "\n",
    "from sklearn.model_selection import train_test_split\n",
    "from sklearn.linear_model import LinearRegression\n",
    "\n",
    "X_train, X_test, y_train, y_test = train_test_split(X, y, test_size=0.20, random_state=42) \n",
    "\n",
    "LR = LinearRegression().fit(X_train, y_train)\n",
    "print(headers)\n",
    "print(LR.coef_)\n",
    "LR.score(X_test,y_test)\n",
    "\n",
    "\n",
    "\n",
    "\n",
    "\n",
    "\n",
    "\n",
    "\n"
   ]
  },
  {
   "cell_type": "markdown",
   "metadata": {},
   "source": [
    "<P><font color=\"maroon\"><u>What is the score, i.e., R<sup>2</sup> coefficient, of your linear regression model on the <em>test</em> data? What feature has the highest (absolute value) weight, i.e., contributes most to determining medical costs? What feature has the lowest (absolute value) weight, i.e., contributes least to determining medical costs?<u></font></P>"
   ]
  },
  {
   "cell_type": "markdown",
   "metadata": {},
   "source": [
    "Score on test data: 0.78359297671207218\n",
    "\n",
    "Highest weight feature: smoker\n",
    "\n",
    "Lowest weight feature: southwest\n"
   ]
  },
  {
   "cell_type": "markdown",
   "metadata": {},
   "source": [
    "<P>While walking around campus, have you bumped into Wendy Wellesley lately? She is 21 years old, female, has a BMI of 28.5, has no children, does not smoke, and lives in the northeast. Use your trained linear regression model to predict her medical cost this year.</P> "
   ]
  },
  {
   "cell_type": "code",
   "execution_count": 57,
   "metadata": {},
   "outputs": [
    {
     "data": {
      "text/plain": [
       "array([ 3072.40850267])"
      ]
     },
     "execution_count": 57,
     "metadata": {},
     "output_type": "execute_result"
    }
   ],
   "source": [
    "# Predict medical costs for Wendy Wellesley, who is 21 years old, female, \n",
    "# has a BMI of 28.5, has no children, does not smoke, and lives in the northeast.\n",
    "\n",
    "wendy = np.array([21.0,1,28.5,0,0,1,0,0,0]).reshape(1,-1)\n",
    "LR.predict(wendy)\n",
    "\n"
   ]
  },
  {
   "cell_type": "markdown",
   "metadata": {},
   "source": [
    "<P><font color=\"maroon\"><u>What is Wendy Wellesley's predicted medical cost?<u></font></P>"
   ]
  },
  {
   "cell_type": "markdown",
   "metadata": {},
   "source": [
    "3072.40850267"
   ]
  },
  {
   "cell_type": "markdown",
   "metadata": {},
   "source": [
    "<H2>Task 3: Non-Linear Logistic Regression\n",
    "</H2>"
   ]
  },
  {
   "cell_type": "markdown",
   "metadata": {},
   "source": [
    "<P>While you used <em>linear</em> regression in the previous task, you will now turn to <em>logistic</em> regression for the remainder of this project. To start, you will explore non-linear logistic regression.</P>\n",
    "<P>The code below reads in a file of data corresponding to two classes and plots the data.</P>"
   ]
  },
  {
   "cell_type": "code",
   "execution_count": 58,
   "metadata": {
    "collapsed": true
   },
   "outputs": [],
   "source": [
    "# Read in data and store feature vectors in array X and labels in array y\n",
    "import numpy as np\n",
    "np.random.seed(42)\n",
    "DATA = np.loadtxt('nonlinear.csv', delimiter=',', skiprows=1)\n",
    "X = DATA[:,:-1]\n",
    "y = DATA[:,-1]"
   ]
  },
  {
   "cell_type": "code",
   "execution_count": 59,
   "metadata": {},
   "outputs": [
    {
     "data": {
      "image/png": "[encoded data removed]",
      "text/plain": [
       "<matplotlib.figure.Figure at 0x1204becc0>"
      ]
     },
     "metadata": {},
     "output_type": "display_data"
    }
   ],
   "source": [
    "# Plot data\n",
    "import matplotlib.pyplot as plt\n",
    "plt.scatter(X[:,0], X[:,1], c=y, s=40, edgecolor='k')\n",
    "plt.xticks([])\n",
    "plt.yticks([])\n",
    "plt.show()"
   ]
  },
  {
   "cell_type": "markdown",
   "metadata": {},
   "source": [
    "<P>You will use logistic regression to classify the above data. However, looking at the plot above, the data do not appear to be linearly separable. Thus, you will be generating polynomial combinations of the features in order to create new features prior to classifying the data with logistic regression.</P>\n",
    "<P>First, let's split the data into training and testing data...</P>"
   ]
  },
  {
   "cell_type": "code",
   "execution_count": 61,
   "metadata": {
    "collapsed": true
   },
   "outputs": [],
   "source": [
    "# Split data into 80% training and 20% testing\n",
    "from sklearn.model_selection import train_test_split\n",
    "X_train, X_test, y_train, y_test = train_test_split(X, y, test_size=0.20, random_state=42)"
   ]
  },
  {
   "cell_type": "markdown",
   "metadata": {},
   "source": [
    "<P>Your task is to explore how logistic regression performs when using different polynomial combinations of the features. Here, you should experiment with polynomial combinations of degree 1, 2, 3, 4, 5, 6, 7, 8, 9, and 10. A 1 degree polynomial combination of the features is simply the original features. A 2 degree polynomial combination of the features includes squared versions of the original features. A 3 degree polynomial combination of the features includes cubic versions of the original features. And so on. For each of 10 different polynomial degrees, you should create new features corresponding to polynomial combinations of the original features. You should use <a href = \"http://scikit-learn.org/stable/modules/generated/sklearn.preprocessing.PolynomialFeatures.html\"><code>sklearn.preprocessing.PolynomialFeatures</code></a> to generate the new sets of feature combinations. When generating features, you should first use the <em>training</em> data to <code>fit</code> the features and then <code>transform</code> separately both the <em>training</em> data and the <em>testing</em> data to create new features.</P>\n",
    "\n",
    "<P>For each of the 10 polynomial degrees, you should train an <a href = \"http://scikit-learn.org/stable/modules/generated/sklearn.linear_model.LogisticRegression.html\"><code>sklearn</code> Logistic Regression classifier</a> on the transformed <em>training</em> data and then report the accuracy of the classifier on the transformed <em>testing</em> data. Thus, you should report 10 accuracies, one for each polynomial degree.</P>"
   ]
  },
  {
   "cell_type": "code",
   "execution_count": 63,
   "metadata": {},
   "outputs": [
    {
     "name": "stdout",
     "output_type": "stream",
     "text": [
      "1 0.7\n",
      "2 0.72\n",
      "3 0.76\n",
      "4 0.88\n",
      "5 0.98\n",
      "6 0.72\n",
      "7 0.7\n",
      "8 0.72\n",
      "9 0.7\n",
      "10 0.74\n"
     ]
    }
   ],
   "source": [
    "# Generate features corresponding to different degree polynomial combinations and print the accuracy for each degree\n",
    "\n",
    "from sklearn.preprocessing import PolynomialFeatures\n",
    "from sklearn.linear_model import LogisticRegression\n",
    "\n",
    "degrees = [1, 2, 3, 4, 5, 6, 7, 8, 9, 10]\n",
    "\n",
    "def PolyLogRegression(degree, X_train, y_train, X_test, y_test):\n",
    "    \n",
    "    poly = PolynomialFeatures(degree)\n",
    "\n",
    "    #first use training data to fit features\n",
    "    poly.fit(X_train, y_train)\n",
    "\n",
    "\n",
    "    #transform training data to create new features\n",
    "\n",
    "    tr_X_train = poly.transform(X_train)\n",
    "\n",
    "\n",
    "    #transform testing data to create new features\n",
    "\n",
    "    tr_X_test = poly.transform(X_test)\n",
    "    \n",
    "    #logistic regression\n",
    "    \n",
    "    clf = LogisticRegression().fit(tr_X_train, y_train)\n",
    "    \n",
    "    return clf.score(tr_X_test,y_test)\n",
    "\n",
    "for d in degrees:\n",
    "    print(d, PolyLogRegression(d, X_train, y_train, X_test, y_test))\n",
    "    \n"
   ]
  },
  {
   "cell_type": "markdown",
   "metadata": {},
   "source": [
    "<P><font color=\"maroon\"><u>For which of the ten polynomial degrees does the logistic regression classifier achieve the highest accuracy? What is the accuracy of the classifier at this optimal degree?<u></font></P>"
   ]
  },
  {
   "cell_type": "markdown",
   "metadata": {},
   "source": [
    "Highest accuracy degree: 5 \n",
    "\n",
    "Accuracy of optimal degree: 0.98"
   ]
  },
  {
   "cell_type": "markdown",
   "metadata": {},
   "source": [
    "<P>It's worth noting that we are using <em>test</em> data above to evaluate different degree polynomials. If we were selecting the best degree polynomial to use as part of our classification pipeline, we would be tuning a hyperparameter (the degree of the polynomial) and we would need to instead evaluate the different degrees on <em>validation</em> data.</P>"
   ]
  },
  {
   "cell_type": "markdown",
   "metadata": {},
   "source": [
    "<H2>Task 4: Evaluating Classifiers for Diagnosing Cancers as Benign or Malignant \n",
    "</H2>"
   ]
  },
  {
   "cell_type": "markdown",
   "metadata": {},
   "source": [
    "<P>For the next few tasks, you will be using <a href=\"https://archive.ics.uci.edu/ml/datasets/Breast+Cancer+Wisconsin+(Diagnostic)\">breast cancer data</a> to diagnose whether a cancer is benign (0) or malignant (1). The features are derived from a digitized image of a fine needle aspirate of a breast mass. The features describe characteristics of the cell nuclei present in the image, including the radius, texture, perimeter, area, smoothness, compactness, concavity, number of concave points, symmetry, and fractal dimension, with the mean, standard error, and worst value provided for each.</P>\n",
    "<P>To begin, read in the CSV file <code>breast_cancer.csv</code>, ignoring the header line, and store the feature vectors in an array <code>X</code> and the labels in an array <code>y</code>.</P>"
   ]
  },
  {
   "cell_type": "code",
   "execution_count": 65,
   "metadata": {},
   "outputs": [],
   "source": [
    "# Read in data and store feature vectors in array X and labels in array y\n",
    "\n",
    "DATA = np.loadtxt('breast_cancer.csv',skiprows=1, delimiter=',')\n",
    "X,y = DATA[:,:-1], DATA[:,-1]\n",
    "\n",
    "\n"
   ]
  },
  {
   "cell_type": "markdown",
   "metadata": {},
   "source": [
    "<P>Now seed the <code>numpy</code> random number generator and then split the data into 80% training data and 20% testing data.</P>"
   ]
  },
  {
   "cell_type": "code",
   "execution_count": 68,
   "metadata": {},
   "outputs": [],
   "source": [
    "# Seed the random number generator.\n",
    "# Split data into 80% training and 20% testing\n",
    "\n",
    "np.random.seed(42)\n",
    "X_train, X_test, y_train, y_test = train_test_split(X, y, test_size=0.20, random_state=42)\n"
   ]
  },
  {
   "cell_type": "markdown",
   "metadata": {},
   "source": [
    "<P>Let's evaluate the performance of four different <code>sklearn</code> classifiers, a <a href=\"http://scikit-learn.org/stable/modules/generated/sklearn.tree.DecisionTreeClassifier.html\">decision tree</a>, a <a href=\"http://scikit-learn.org/stable/modules/generated/sklearn.neighbors.KNeighborsClassifier.html\"><em>k</em> nearest neighbors classifier</a>, a <a href=\"http://scikit-learn.org/stable/modules/generated/sklearn.linear_model.Perceptron.html\">perceptron</a>, and a <a href=\"http://scikit-learn.org/stable/modules/generated/sklearn.linear_model.LogisticRegression.html\">logistic regression classifier</a>. Since we may end up further using the best performing of the four classifiers, it is as if we are tuning a hyperparameter (where the hyperparameter is the classification algorithm), so we will evaluate the classifiers on <em>validation</em> data rather than <em>testing</em> data.</P>\n",
    "\n",
    "<P>One option would be to split the <em>training</em> data into separate sets, one used only as <em>training</em> data and one used only as <em>validation</em> data. Instead, we will use 5-fold cross-validation where we will split the <em>training</em> data into five equal sized sets. Then, five times, we will use four of the sets as <em>training</em> data and the remaining set as <em>validation</em> data. The <em>validation</em> accuracy that we report will be the average validation accuracy over the five trials.</P>\n",
    "\n",
    "<P>Thus, for each of the four classifiers, you should use 5-fold cross validation, and you should report the average accuracy of the classifier over the five validation trials. You should compute the average accuracy of a classifier from 5-fold cross validation using the <a href=\"http://scikit-learn.org/stable/modules/generated/sklearn.model_selection.cross_val_score.html#sklearn.model_selection.cross_val_score\"><code>sklearn cross_val_score</code></a> function. For each classifer, you should use its default parameter settings, except for the Perceptron where you should set the number of epochs to 10.</P>"
   ]
  },
  {
   "cell_type": "code",
   "execution_count": 78,
   "metadata": {},
   "outputs": [
    {
     "name": "stdout",
     "output_type": "stream",
     "text": [
      "Accuracy of LogisticRegression:\t0.949351276743\n",
      "Accuracy of Perceptron:\t0.766834421617\n",
      "Accuracy of RandomForest:\t0.944979561501\n",
      "Accuracy of kNN:\t0.923049317832\n"
     ]
    }
   ],
   "source": [
    "# Compute the average 5-fold cross-validation accuracy for each of four classifiers (decision tree, kNN, perceptron, logistic regression)\n",
    "\n",
    "from sklearn import linear_model  # Using sklearn Perceptron classifier\n",
    "from sklearn import ensemble  # Using RandomForest classifier\n",
    "from sklearn import neighbors  # Using nearest neighbors classifier\n",
    "from sklearn.model_selection import cross_val_score\n",
    "\n",
    "learners = {'Perceptron': linear_model.Perceptron(max_iter=10),\n",
    "            'RandomForest': ensemble.RandomForestClassifier(),\n",
    "            'kNN': neighbors.KNeighborsClassifier(),\n",
    "            'LogisticRegression': LogisticRegression()\n",
    "           }\n",
    "\n",
    "for classifierName in learners:\n",
    "    score = cross_val_score(learners[classifierName],X_train, y_train, cv=5)\n",
    "    print('Accuracy of ' + classifierName + ':\\t' + str(np.mean(score)))\n",
    "\n",
    "\n"
   ]
  },
  {
   "cell_type": "markdown",
   "metadata": {},
   "source": [
    "<P><font color=\"maroon\"><u>Which classifier yielded the highest cross-validation accuracy? What is the cross-validation accuracy of the logistic regression classifier?<u></font></P>"
   ]
  },
  {
   "cell_type": "markdown",
   "metadata": {},
   "source": [
    "Logistic Regression yielded the highest cross-validation accuracy.\n",
    "Accuracy of Logistic Regression:\t0.949351276743"
   ]
  },
  {
   "cell_type": "markdown",
   "metadata": {},
   "source": [
    "<H2>Task 5: Regularization \n",
    "</H2>"
   ]
  },
  {
   "cell_type": "markdown",
   "metadata": {},
   "source": [
    "<P>While you explored different classifiers above, let's now focus only on logistic regression classification of the breast cancer data. In particular, let's explore <em>regularized</em> logistic regression. The <a href=\"http://scikit-learn.org/stable/modules/generated/sklearn.linear_model.LogisticRegression.html\"><code>sklearn</code> logistic regression classifier</a> has a parameter <code>C</code> that controls regularization strength, like the regularization parameter &lambda; that we studied in class. However, the parameter <code>C</code> corresponds to the <em>inverse</em> of regularization strength so that smaller values of <code>C</code> specify stronger regularization. Below, you should experiment with seven different values for the parameter <code>C</code>: 1, 3, 10, 30, 100, 300, 1000. For each of these seven values for <code>C</code>, report the average 5-fold cross-validation accuracy of a logistic regression classifier.</P>"
   ]
  },
  {
   "cell_type": "code",
   "execution_count": 82,
   "metadata": {
    "scrolled": true
   },
   "outputs": [
    {
     "name": "stdout",
     "output_type": "stream",
     "text": [
      "Accuracy of C=1:\t0.949351276743\n",
      "Accuracy of C=3:\t0.955944683336\n",
      "Accuracy of C=10:\t0.962562509954\n",
      "Accuracy of C=30:\t0.96038859691\n",
      "Accuracy of C=100:\t0.958166374688\n",
      "Accuracy of C=300:\t0.96038859691\n",
      "Accuracy of C=1000:\t0.95596857249\n"
     ]
    }
   ],
   "source": [
    "# Using 5-fold cross validation, tune the regularization hyperparameter C for logistic regression\n",
    "\n",
    "Cs = [1, 3, 10, 30, 100, 300, 1000]\n",
    "\n",
    "for c in Cs:\n",
    "    score = cross_val_score(LogisticRegression(C=c),X_train, y_train, cv=5)\n",
    "    print('Accuracy of C=' + str(c) + ':\\t' + str(np.mean(score)))\n",
    "\n"
   ]
  },
  {
   "cell_type": "markdown",
   "metadata": {},
   "source": [
    "<P><font color=\"maroon\"><u>Of the seven values you experimented with for the parameter <code>C</code>, which led to the highest average 5-fold cross-validation accuracy and what was its accuracy?<u></font></P>"
   ]
  },
  {
   "cell_type": "markdown",
   "metadata": {},
   "source": [
    "C=10 led to the heightest accuracy. \n",
    "\n",
    "Accuracy of C=10:\t0.962562509954"
   ]
  },
  {
   "cell_type": "markdown",
   "metadata": {},
   "source": [
    "<H2>Task 6: Recall, Precision, and F1 Score\n",
    "</H2>"
   ]
  },
  {
   "cell_type": "markdown",
   "metadata": {},
   "source": [
    "<P>In Task 4 above, you determined the optimal value (among seven possibilities) for the regularization parameter <code>C</code> used by a logistic regression classifier on the breast cancer data. Using this optimal value for the parameter <code>C</code>, again train a logistic regression classifier on the breast cancer <em>training</em> data. In this task, rather than report the <em>accuracy</em> of the classifier on the <em>testing</em> data, you should report the <em>recall</em>, the <em>precision</em>, and the <em>F1</em> score of the classifier on the <em>testing</em> data. You may use <a href=\"http://scikit-learn.org/stable/modules/generated/sklearn.metrics.recall_score.html\"><code>sklearn.metrics.recall_score</code></a>, <a href=\"http://scikit-learn.org/stable/modules/generated/sklearn.metrics.precision_score.html\"><code>sklearn.metrics.precision_score</code></a>, and <a href=\"http://scikit-learn.org/stable/modules/generated/sklearn.metrics.f1_score.html\"><code>sklearn.metrics.f1_score</code></a> to compute the three scores.</P>"
   ]
  },
  {
   "cell_type": "code",
   "execution_count": 84,
   "metadata": {},
   "outputs": [
    {
     "name": "stdout",
     "output_type": "stream",
     "text": [
      "Recall: 0.906976744186 Precision: 0.975 F1 score: 0.939759036145\n"
     ]
    }
   ],
   "source": [
    "# Using the optimal value for the regularization parameter C,\n",
    "# report the recall, precision, and F1 score of a logistic regression classifier.\n",
    "from sklearn.metrics import recall_score, precision_score, f1_score\n",
    "\n",
    "log_reg = LogisticRegression(C=10).fit(X_train,y_train)\n",
    "\n",
    "y_pred = log_reg.predict(X_test)\n",
    "\n",
    "R = recall_score(y_test,y_pred)\n",
    "P = precision_score(y_test,y_pred)\n",
    "F1 = f1_score(y_test,y_pred)\n",
    "\n",
    "print(\"Recall: \"+str(R),\"Precision: \"+str(P), \"F1 score: \"+str(F1))"
   ]
  },
  {
   "cell_type": "markdown",
   "metadata": {},
   "source": [
    "<P><font color=\"maroon\"><u>What is the recall, precision, and F1 score of the logistic regression classifier on the <em>testing</em> data?<u></font></P>"
   ]
  },
  {
   "cell_type": "markdown",
   "metadata": {},
   "source": [
    "Recall: 0.906976744186 \n",
    "\n",
    "Precision: 0.975 \n",
    "\n",
    "F1 score: 0.939759036145"
   ]
  },
  {
   "cell_type": "markdown",
   "metadata": {},
   "source": [
    "<H2>Task 7: Feature Scaling\n",
    "</H2>"
   ]
  },
  {
   "cell_type": "markdown",
   "metadata": {},
   "source": [
    "<P>If you explore the breast cancer data, you will note that some features take on values in the thousands whereas other features never achieve values larger than 0.1. The features are not all on the same scale. Thus, you should perform feature scaling on the data prior to using your classifier.</P>\n",
    "\n",
    "<P>Using <a href=\"http://scikit-learn.org/stable/modules/generated/sklearn.preprocessing.StandardScaler.html\"><code>sklearn.preprocessing.StandardScaler</code></a>, you should perform feature scaling on the data. First, you should <code>fit</code> the <code>StandardScaler</code> with the <em>training</em> data. Then you can separately <code>transform</code> the <em>training</em> data and the <em>testing</em> data into \"feature scaled\" <em>training</em> data and \"feature scaled\" <em>testing</em> data, respectively. Finally, train your logistic regression classifier using the \"feature scaled\" <em>training</em> data and optimal regularization parameter <code>C</code> as determined in Task 4 above, and report the F1 score of the classifier on the \"feature scaled\" <em>testing</em> data.</P>"
   ]
  },
  {
   "cell_type": "code",
   "execution_count": 89,
   "metadata": {},
   "outputs": [
    {
     "name": "stdout",
     "output_type": "stream",
     "text": [
      "Recall: 0.976744186047 Precision: 0.954545454545 F1 score: 0.965517241379\n"
     ]
    }
   ],
   "source": [
    "# After performing feature scaling (and using the optimal value for the regularization parameter C),\n",
    "# report the F1 score of a logistic regression classifier.\n",
    "from sklearn.preprocessing import StandardScaler\n",
    "\n",
    "scalar = StandardScaler()\n",
    "scalar.fit(X_train,y_train)\n",
    "scaled_X_train = scalar.transform(X_train)\n",
    "scaled_X_test = scalar.transform(X_test)\n",
    "\n",
    "fs_log_reg = LogisticRegression(C=10).fit(scaled_X_train,y_train)\n",
    "\n",
    "fs_y_pred = fs_log_reg.predict(scaled_X_test)\n",
    "\n",
    "R = recall_score(y_test,fs_y_pred)\n",
    "P = precision_score(y_test,fs_y_pred)\n",
    "F1 = f1_score(y_test,fs_y_pred)\n",
    "\n",
    "print(\"Recall: \"+str(R),\"Precision: \"+str(P), \"F1 score: \"+str(F1))"
   ]
  },
  {
   "cell_type": "markdown",
   "metadata": {
    "collapsed": true
   },
   "source": [
    "<P><font color=\"maroon\"><u>After applying feature scaling to the data, what is the F1 score of the logistic regression classifier on the <em>testing</em> data? Did the F1 score improve as a result of applying feature scaling to the data?<u></font></P>"
   ]
  },
  {
   "cell_type": "markdown",
   "metadata": {
    "collapsed": true
   },
   "source": [
    "F1 score: 0.965517241379\n",
    "\n",
    "Yes, the F1 scored improved from 0.939759036145 without feature scaling."
   ]
  },
  {
   "cell_type": "markdown",
   "metadata": {},
   "source": [
    "<H2>Submitting your work\n",
    "</H2>"
   ]
  },
  {
   "cell_type": "markdown",
   "metadata": {},
   "source": [
    "<P><font color=\"maroon\"><u>Please indicate your name and the names of any partner that worked with you on this project:</u></font></P>"
   ]
  },
  {
   "cell_type": "markdown",
   "metadata": {},
   "source": [
    "Name(s): Hala Lotfy"
   ]
  },
  {
   "cell_type": "markdown",
   "metadata": {},
   "source": [
    "<P><font color=\"maroon\"><u>Please indicate anyone else that you collaborated with in the process of doing the project:</u></font></P>"
   ]
  },
  {
   "cell_type": "markdown",
   "metadata": {},
   "source": [
    "Collaborators: "
   ]
  },
  {
   "cell_type": "markdown",
   "metadata": {},
   "source": [
    "<P><font color=\"maroon\"><u>If you or your partner is using a late coupon, please indicate who is using the coupon and how many coupons:</u></font></P>"
   ]
  },
  {
   "cell_type": "markdown",
   "metadata": {},
   "source": [
    "Late coupons: "
   ]
  },
  {
   "cell_type": "markdown",
   "metadata": {},
   "source": [
    "<P><font color=\"maroon\"><u>When working on this project, approximately how many hours did you spend on each of (1) Task 1, (2) Task 2, (3) Task 3, (4) Task 4, (5) Task 5, (6) Task 6, (7) Task 7, and (8) Total?</u></font></P>"
   ]
  },
  {
   "cell_type": "markdown",
   "metadata": {},
   "source": [
    "Hours on Task 1: \n",
    "Hours on Task 2: \n",
    "Hours on Task 3: \n",
    "Hours on Task 4: \n",
    "Hours on Task 5: \n",
    "Hours on Task 6: \n",
    "Hours on Task 7: \n",
    "Total hours: "
   ]
  },
  {
   "cell_type": "markdown",
   "metadata": {},
   "source": [
    "<P><font color=\"maroon\"><u>When working on this project, did you abide by the <a href=\"https://www.wellesley.edu/studentlife/aboutus/honor\">Honor Code</a> and is all of the work that you are submitting your own and/or your partner's?</u></font></P>"
   ]
  },
  {
   "cell_type": "markdown",
   "metadata": {},
   "source": [
    "Abide by Honor Code: "
   ]
  },
  {
   "cell_type": "markdown",
   "metadata": {},
   "source": [
    "<P><font color=\"maroon\"><u>To submit this project, please upload your <code>Project3.ipynb</code> file to the <code>Project3</code> folder that the instructor created and shared with you in your Google drive.</u></font></P>"
   ]
  }
 ],
 "metadata": {
  "kernelspec": {
   "display_name": "Python 3",
   "language": "python",
   "name": "python3"
  },
  "language_info": {
   "codemirror_mode": {
    "name": "ipython",
    "version": 3
   },
   "file_extension": ".py",
   "mimetype": "text/x-python",
   "name": "python",
   "nbconvert_exporter": "python",
   "pygments_lexer": "ipython3",
   "version": "3.7.5"
  }
 },
 "nbformat": 4,
 "nbformat_minor": 2
}
